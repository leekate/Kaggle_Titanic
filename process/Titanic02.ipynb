{
  "nbformat": 4,
  "nbformat_minor": 0,
  "metadata": {
    "colab": {
      "name": "Titanic02.ipynb",
      "provenance": [],
      "private_outputs": true,
      "collapsed_sections": [],
      "authorship_tag": "ABX9TyOlZF06ywqJf512+O+Cogdf",
      "include_colab_link": true
    },
    "kernelspec": {
      "name": "python3",
      "display_name": "Python 3"
    }
  },
  "cells": [
    {
      "cell_type": "markdown",
      "metadata": {
        "id": "view-in-github",
        "colab_type": "text"
      },
      "source": [
        "<a href=\"https://colab.research.google.com/github/leekate/titanic_pro/blob/master/Titanic02.ipynb\" target=\"_parent\"><img src=\"https://colab.research.google.com/assets/colab-badge.svg\" alt=\"Open In Colab\"/></a>"
      ]
    },
    {
      "cell_type": "markdown",
      "metadata": {
        "id": "-eHJKCTbnIf7",
        "colab_type": "text"
      },
      "source": [
        "# Kaggle: Titanic_Machine Learning from Disaster\n",
        "#### 목표:트레이닝 세트에서 패턴을 찾고 살아남은 사람을 예측하기"
      ]
    },
    {
      "cell_type": "code",
      "metadata": {
        "id": "PSIXODRUmhiL",
        "colab_type": "code",
        "colab": {}
      },
      "source": [
        "#데이터 확인에 필요한 라이브러리 불러오기\n",
        "import numpy as np \n",
        "import pandas as pd "
      ],
      "execution_count": null,
      "outputs": []
    },
    {
      "cell_type": "markdown",
      "metadata": {
        "id": "RRmJfMemm3rL",
        "colab_type": "text"
      },
      "source": [
        "# 1. 데이터 확인부터 하자"
      ]
    },
    {
      "cell_type": "code",
      "metadata": {
        "id": "jwX46RdUlUM6",
        "colab_type": "code",
        "colab": {}
      },
      "source": [
        "train_data = pd.read_csv(\"train.csv\")\n",
        "train_data.head()"
      ],
      "execution_count": null,
      "outputs": []
    },
    {
      "cell_type": "code",
      "metadata": {
        "id": "_gz_5YDameWk",
        "colab_type": "code",
        "colab": {}
      },
      "source": [
        "test_data = pd.read_csv(\"test.csv\")\n",
        "test_data.head()"
      ],
      "execution_count": null,
      "outputs": []
    },
    {
      "cell_type": "markdown",
      "metadata": {
        "id": "DCkTOE6oCbfR",
        "colab_type": "text"
      },
      "source": [
        "항목별 의미이다.\n",
        "*   Survived: 0 = 아니오, 1 = 예\n",
        "*   pclass: 객실 클래스 / 1 = 1등석, 2 = 2등석, 3 = 3등석 \n",
        "*   Name : 탑승자 이름\n",
        "*   Sex : 탑승자 성별\n",
        "*   Age : 탑승자 나이\n",
        "*   pclass: 티켓 클래스 / 1 = 1위, 2 = 2위, 3 = 3위\n",
        "*   SibSp: 타이타닉호에 탑승한 형제/배우자 수\n",
        "*   parch: 타이타닉호에 승선한 부모/아이들의 수\n",
        "*   TIcket: 티켓 번호\n",
        "*   Fare : 여객운임\n",
        "*   Cabin: 객실 번호\n",
        "*   Embarked: 탑승 항만 / C = 체르부르, Q = 퀸스타운, S = 사우샘프턴"
      ]
    },
    {
      "cell_type": "markdown",
      "metadata": {
        "id": "BqgDNDMyrOmm",
        "colab_type": "text"
      },
      "source": [
        "## 간단하게 bar로 표현\n",
        "몇등석에 있었는지에 따라 살아남은 정도가 궁금해졌다. 좋은 1등석에 있을수록 많은 사람이 살아남았을까?"
      ]
    },
    {
      "cell_type": "code",
      "metadata": {
        "id": "dP_d_9XJqZL0",
        "colab_type": "code",
        "colab": {}
      },
      "source": [
        "import matplotlib.pyplot as plt\n",
        "\n",
        "train_data_class = train_data.groupby(['Pclass'])['Survived']\n",
        "train_data_class.plot.bar()"
      ],
      "execution_count": null,
      "outputs": []
    },
    {
      "cell_type": "markdown",
      "metadata": {
        "id": "PRHOjGefsOkP",
        "colab_type": "text"
      },
      "source": [
        "그래프를 알아보기 힘들정도로 복잡하다. 따라서 다른 방법으로 보기 쉽게 조절해주어야 한다. mean() 메소드를 사용해보자."
      ]
    },
    {
      "cell_type": "code",
      "metadata": {
        "id": "5IaKd3u0qHYt",
        "colab_type": "code",
        "colab": {}
      },
      "source": [
        "import matplotlib.pyplot as plt\n",
        "\n",
        "train_data_class = train_data.groupby(['Pclass'])['Survived'].mean()\n",
        "train_data_class.plot.bar()"
      ],
      "execution_count": null,
      "outputs": []
    },
    {
      "cell_type": "markdown",
      "metadata": {
        "id": "MSi_fFHrtOku",
        "colab_type": "text"
      },
      "source": [
        "알고싶었던 정보를 쉽게 알 수 있다. 성별과도 비교해보자."
      ]
    },
    {
      "cell_type": "code",
      "metadata": {
        "id": "M2D62QD1sa_S",
        "colab_type": "code",
        "colab": {}
      },
      "source": [
        "import matplotlib.pyplot as plt\n",
        "\n",
        "train_data_sex = train_data.groupby(['Sex'])['Survived'].mean()\n",
        "train_data_sex.plot.bar()\n"
      ],
      "execution_count": null,
      "outputs": []
    },
    {
      "cell_type": "code",
      "metadata": {
        "id": "VajCqExRLYCX",
        "colab_type": "code",
        "colab": {}
      },
      "source": [
        "import matplotlib.pyplot as plt\n",
        "\n",
        "train_data_sex = train_data.groupby(['Age'])['Survived'].mean()\n",
        "train_data_sex.plot.bar()"
      ],
      "execution_count": null,
      "outputs": []
    },
    {
      "cell_type": "markdown",
      "metadata": {
        "id": "LuRNsBagLfJP",
        "colab_type": "text"
      },
      "source": [
        "나이가 너무 다양해서 그래프가 너무 복잡하다. 이건 아래서 해결해보자."
      ]
    },
    {
      "cell_type": "markdown",
      "metadata": {
        "id": "8-0-Usx6DjHo",
        "colab_type": "text"
      },
      "source": [
        "## 더 멋있는 바 차트를 만들어보자"
      ]
    },
    {
      "cell_type": "code",
      "metadata": {
        "id": "Wln2JUheF8R7",
        "colab_type": "code",
        "colab": {}
      },
      "source": [
        "def better_bar(feature):\n",
        "  yes=train_data[train_data['Survived']==1][feature].value_counts()\n",
        "  no=train_data[train_data['Survived']==0][feature].value_counts()\n",
        "  df=pd.DataFrame([yes,no])\n",
        "  df.index=['yes','no']\n",
        "  df.plot(kiind='bar',stacked=True,figsize=(10,5))"
      ],
      "execution_count": null,
      "outputs": []
    },
    {
      "cell_type": "code",
      "metadata": {
        "id": "9JjFPi_IGq1A",
        "colab_type": "code",
        "colab": {}
      },
      "source": [
        "better_bar(\"Parch\")"
      ],
      "execution_count": null,
      "outputs": []
    },
    {
      "cell_type": "markdown",
      "metadata": {
        "id": "61_NcCEnEIBS",
        "colab_type": "text"
      },
      "source": [
        "# 왜 안되는걸까!!!!!!!!!!!!"
      ]
    },
    {
      "cell_type": "markdown",
      "metadata": {
        "id": "GYMyIR2J1gvV",
        "colab_type": "text"
      },
      "source": [
        "앗 그런데 pandas를 확인했을 때 비어보이는 값들이 많다. missing data를 파악해보자"
      ]
    },
    {
      "cell_type": "code",
      "metadata": {
        "id": "JOth4h5y12rL",
        "colab_type": "code",
        "colab": {}
      },
      "source": [
        "test_data.info()"
      ],
      "execution_count": null,
      "outputs": []
    },
    {
      "cell_type": "markdown",
      "metadata": {
        "id": "HwLxVb8K2Ch-",
        "colab_type": "text"
      },
      "source": [
        "여기까지 확인했을 때 cabin의 값을 가지는 샘플이 많지 않다는 것을 알 수 있다. 샘플이 부족하면 언더피팅이 발생할 수 있어 샘플을 채워주거나 모델을 복잡하게 하거나 규제를 줄여 언더피팅 발생을 막아야 한다. 하지만 cabin이라는 항목이 값을 채워주기에는 너무 많은 양이 존재하지 않고, 살아남은 사람을 예상하는 것과 큰 연관이 없다고 생각해 이 데이터를 빼고 생각하려고 한다."
      ]
    },
    {
      "cell_type": "code",
      "metadata": {
        "id": "T0EbnfKG6sM3",
        "colab_type": "code",
        "colab": {}
      },
      "source": [
        "\n",
        "train_new=train_data.drop('Cabin',axis=1)\n",
        "\n",
        "train_new"
      ],
      "execution_count": null,
      "outputs": []
    },
    {
      "cell_type": "markdown",
      "metadata": {
        "id": "RK2utOo-8Vgg",
        "colab_type": "text"
      },
      "source": [
        "성별이 문자형이므로 다루기 쉽게 숫자형으로 바꾸어주자"
      ]
    },
    {
      "cell_type": "code",
      "metadata": {
        "id": "cuL1KhGi8UEm",
        "colab_type": "code",
        "colab": {}
      },
      "source": [
        "\n",
        "train_new.Sex = train_data.Sex.replace('female',0)\n",
        "train_new.Sex = train_data.Sex.replace('male',1)\n",
        "\n",
        "train_new"
      ],
      "execution_count": null,
      "outputs": []
    },
    {
      "cell_type": "markdown",
      "metadata": {
        "id": "bAvlfhjSIoEX",
        "colab_type": "text"
      },
      "source": [
        "단일 특성을 가지고 생존 확률을 예측하기보단 여러가지 특성을 종합해서 예측을 하는 것이 더 좋을 것이다."
      ]
    },
    {
      "cell_type": "markdown",
      "metadata": {
        "id": "pvH_8zi11tfz",
        "colab_type": "text"
      },
      "source": [
        "# 2. 데이터 전처리를 해보자"
      ]
    },
    {
      "cell_type": "markdown",
      "metadata": {
        "id": "Uvm7u9lpNqBb",
        "colab_type": "text"
      },
      "source": [
        "### Embarked 파트"
      ]
    },
    {
      "cell_type": "code",
      "metadata": {
        "id": "8Lt-iX-Gz4GQ",
        "colab_type": "code",
        "colab": {}
      },
      "source": [
        "train_new.Embarked.value_counts(dropna=False)"
      ],
      "execution_count": null,
      "outputs": []
    },
    {
      "cell_type": "markdown",
      "metadata": {
        "id": "QUeKefSRJUYI",
        "colab_type": "text"
      },
      "source": [
        "위의 코드는 dropna를 false로 했기 떄문에 nan값을 포함한 갯수의 총합을 의미한다. s가 많기 때문에 누락된 값을 s로 채워주자. "
      ]
    },
    {
      "cell_type": "code",
      "metadata": {
        "id": "bkWRdBn8xDo8",
        "colab_type": "code",
        "colab": {}
      },
      "source": [
        "\n",
        "train_new.Embarked = train_data.Embarked.fillna('S')\n",
        "\n",
        "train_new\n"
      ],
      "execution_count": null,
      "outputs": []
    },
    {
      "cell_type": "markdown",
      "metadata": {
        "id": "rFEarZOFN5wS",
        "colab_type": "text"
      },
      "source": [
        "### Age 파트"
      ]
    },
    {
      "cell_type": "markdown",
      "metadata": {
        "id": "8T_5E2r5KRCm",
        "colab_type": "text"
      },
      "source": [
        "age 전처리도 해보자\n",
        "\n",
        "위에서 봤던 그래프를 기억하는가? 나이가 너무 다양해서 한눈에 파악하기 쉽지 않았다. 카테고리를 만들어서 나이의 구역을 나누어 그래프로 표현한다면 더 보기 쉬울 거 같다.해보자."
      ]
    },
    {
      "cell_type": "code",
      "metadata": {
        "id": "vXgqnLgIJn-s",
        "colab_type": "code",
        "colab": {}
      },
      "source": [
        "for dataset in train_new:\n",
        "​    dataset['Age'].fillna(dataset['Age'].mean(), inplace=True)\n",
        "​    dataset['Age'] = dataset['Age'].astype(int)\n",
        "​    train_new['AgeBand'] = pd.cut(train_new['Age'], 5)\n",
        "print (train_new[['AgeBand', 'Survived']].groupby(['AgeBand'], as_index=False).mean()) "
      ],
      "execution_count": null,
      "outputs": []
    },
    {
      "cell_type": "markdown",
      "metadata": {
        "id": "aYXeaHDJMrx9",
        "colab_type": "text"
      },
      "source": [
        "# 왜 안되는 거지!!!!!!!!!"
      ]
    },
    {
      "cell_type": "code",
      "metadata": {
        "id": "KqtgyloXMTSg",
        "colab_type": "code",
        "colab": {}
      },
      "source": [
        "for dataset in train_and_test:\n",
        "​    dataset.loc[ dataset['Age'] <= 19, 'Age'] = 0\n",
        "​    dataset.loc[(dataset['Age'] > 19) & (dataset['Age'] <= 38), 'Age'] = 1\n",
        "​    dataset.loc[(dataset['Age'] > 38) & (dataset['Age'] <= 57), 'Age'] = 2\n",
        "​    dataset.loc[(dataset['Age'] > 57) & (dataset['Age'] <= 76), 'Age'] = 3\n",
        "​    dataset.loc[ dataset['Age'] > 76, 'Age'] = 4\n",
        "​    dataset['Age'] = dataset['Age'].map( { 0: 'Child',  1: 'Young', 2: 'Middle', 3: 'Next_age', 4: 'Old'} ).astype(str)"
      ],
      "execution_count": null,
      "outputs": []
    },
    {
      "cell_type": "markdown",
      "metadata": {
        "id": "zKXpp3djNZGR",
        "colab_type": "text"
      },
      "source": [
        "위에가 안됐으니 이게 당연히 안되지"
      ]
    },
    {
      "cell_type": "markdown",
      "metadata": {
        "id": "LKTgeLI5OATK",
        "colab_type": "text"
      },
      "source": [
        "### Fare 파트"
      ]
    },
    {
      "cell_type": "markdown",
      "metadata": {
        "id": "6niASnjIOXBF",
        "colab_type": "text"
      },
      "source": [
        "### 나머지 파트\n"
      ]
    },
    {
      "cell_type": "markdown",
      "metadata": {
        "id": "bUcCiAOkOeUz",
        "colab_type": "text"
      },
      "source": [
        "# 모델링 및 학습"
      ]
    },
    {
      "cell_type": "markdown",
      "metadata": {
        "id": "FbePxVbBOmKH",
        "colab_type": "text"
      },
      "source": [
        "# 결정트리로도 해보자"
      ]
    },
    {
      "cell_type": "code",
      "metadata": {
        "id": "tMN7Bg-ZNWeM",
        "colab_type": "code",
        "colab": {}
      },
      "source": [
        ""
      ],
      "execution_count": null,
      "outputs": []
    }
  ]
}
