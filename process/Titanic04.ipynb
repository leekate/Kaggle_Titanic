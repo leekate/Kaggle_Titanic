{
  "nbformat": 4,
  "nbformat_minor": 0,
  "metadata": {
    "colab": {
      "name": "Titanic02.ipynb의 사본의 사본의 사본",
      "provenance": [],
      "private_outputs": true,
      "collapsed_sections": [],
      "authorship_tag": "ABX9TyOqh7pNk479djz1odgLy+3F",
      "include_colab_link": true
    },
    "kernelspec": {
      "name": "python3",
      "display_name": "Python 3"
    }
  },
  "cells": [
    {
      "cell_type": "markdown",
      "metadata": {
        "id": "view-in-github",
        "colab_type": "text"
      },
      "source": [
        "<a href=\"https://colab.research.google.com/github/leekate/titanic_pro/blob/master/Titanic04.ipynb\" target=\"_parent\"><img src=\"https://colab.research.google.com/assets/colab-badge.svg\" alt=\"Open In Colab\"/></a>"
      ]
    },
    {
      "cell_type": "markdown",
      "metadata": {
        "id": "-eHJKCTbnIf7",
        "colab_type": "text"
      },
      "source": [
        "# Kaggle: Titanic_Machine Learning from Disaster\n",
        "#### 목표:트레이닝 세트에서 패턴을 찾고 살아남은 사람을 예측하기"
      ]
    },
    {
      "cell_type": "code",
      "metadata": {
        "id": "PSIXODRUmhiL",
        "colab_type": "code",
        "colab": {}
      },
      "source": [
        "#데이터 확인에 필요한 라이브러리 불러오기\n",
        "import numpy as np \n",
        "import pandas as pd \n",
        "import matplotlib.pyplot as plt"
      ],
      "execution_count": null,
      "outputs": []
    },
    {
      "cell_type": "markdown",
      "metadata": {
        "id": "RRmJfMemm3rL",
        "colab_type": "text"
      },
      "source": [
        "# 1. 데이터 확인부터 하자"
      ]
    },
    {
      "cell_type": "code",
      "metadata": {
        "id": "jwX46RdUlUM6",
        "colab_type": "code",
        "colab": {}
      },
      "source": [
        "train_data = pd.read_csv(\"train.csv\")\n",
        "train_data.head()"
      ],
      "execution_count": null,
      "outputs": []
    },
    {
      "cell_type": "code",
      "metadata": {
        "id": "_gz_5YDameWk",
        "colab_type": "code",
        "colab": {}
      },
      "source": [
        "test_data = pd.read_csv(\"test.csv\")\n",
        "test_data.head()"
      ],
      "execution_count": null,
      "outputs": []
    },
    {
      "cell_type": "markdown",
      "metadata": {
        "id": "DCkTOE6oCbfR",
        "colab_type": "text"
      },
      "source": [
        "항목별 의미이다.\n",
        "*   Survived: 0 = 아니오, 1 = 예\n",
        "*   pclass: 객실 클래스 / 1 = 1등석, 2 = 2등석, 3 = 3등석 \n",
        "*   Name : 탑승자 이름\n",
        "*   Sex : 탑승자 성별\n",
        "*   Age : 탑승자 나이\n",
        "*   pclass: 티켓 클래스 / 1 = 1위, 2 = 2위, 3 = 3위\n",
        "*   SibSp: 타이타닉호에 탑승한 형제/배우자 수\n",
        "*   parch: 타이타닉호에 승선한 부모/아이들의 수\n",
        "*   TIcket: 티켓 번호\n",
        "*   Fare : 여객운임\n",
        "*   Cabin: 객실 번호\n",
        "*   Embarked: 탑승 항만 / C = 체르부르, Q = 퀸스타운, S = 사우샘프턴"
      ]
    },
    {
      "cell_type": "markdown",
      "metadata": {
        "id": "BqgDNDMyrOmm",
        "colab_type": "text"
      },
      "source": [
        "## 간단하게 bar로 표현\n",
        "몇등석에 있었는지에 따라 살아남은 정도가 궁금해졌다. 좋은 1등석에 있을수록 많은 사람이 살아남았을까?"
      ]
    },
    {
      "cell_type": "code",
      "metadata": {
        "id": "dP_d_9XJqZL0",
        "colab_type": "code",
        "colab": {}
      },
      "source": [
        "#교차표의 행 합, 열 합을 추가해서 한눈에 알아보자\n",
        "#pd.crosstab(margins=True)\n",
        "\n",
        "pd.crosstab(train_data['Pclass'],train_data['Survived'], margins=True)"
      ],
      "execution_count": null,
      "outputs": []
    },
    {
      "cell_type": "markdown",
      "metadata": {
        "id": "PRHOjGefsOkP",
        "colab_type": "text"
      },
      "source": [
        "survived 1이 생존한 샘플이다. 생존한 사람의 수만 보았을 때 1등석이 135명, 3등석이 119명, 2등석이 87명으로 많다. 하지만 생존자의 수만 보는 것보다 비율을 생각하는 것이 더 중요하다. \n",
        "\n",
        "1등석 이용객 216명 중 136명이 살아남았으니 생존비율은 136/216=0.63, 2등석 이용객 184명 중 87명이 살아남았으니 생존비율은 87/184=0.47, 3등석 이용객 491명 중 119명이 살아남았으므로 생존비율은 119/491=0.24이다. 따라서 1등석, 2등석, 3등석 순으로 생존비율이 높음을 알수 있다.\n",
        "\n",
        "\n",
        "하이 레벨의 공간을 이용한 사람일수록 생존율이 높다. 왜 그럴까? 구조가 탈출하기 더 쉬웠거나 탈출 상황에서의 대처가 달랐나? "
      ]
    },
    {
      "cell_type": "markdown",
      "metadata": {
        "id": "U9ykQaAsvvRZ",
        "colab_type": "text"
      },
      "source": [
        "margin 대신 normalize를 이용해 전체 중 각 항목의 비율도 알 수 있다."
      ]
    },
    {
      "cell_type": "code",
      "metadata": {
        "id": "tlijHebjux4Z",
        "colab_type": "code",
        "colab": {}
      },
      "source": [
        "pd.crosstab(train_data['Pclass'],train_data['Survived'], normalize=True)"
      ],
      "execution_count": null,
      "outputs": []
    },
    {
      "cell_type": "markdown",
      "metadata": {
        "id": "roKAhjJ5uiao",
        "colab_type": "text"
      },
      "source": [
        "3등급을 이용한 사람 중 사망한 사람은 0.42%로 굉장히 많은 비율을 차지 하고 있다."
      ]
    },
    {
      "cell_type": "markdown",
      "metadata": {
        "id": "MSi_fFHrtOku",
        "colab_type": "text"
      },
      "source": [
        "이처럼 알고싶었던 정보를 쉽게 알 수 있다. 성별과도 비교해보자."
      ]
    },
    {
      "cell_type": "code",
      "metadata": {
        "id": "M2D62QD1sa_S",
        "colab_type": "code",
        "colab": {}
      },
      "source": [
        "pd.crosstab(train_data['Sex'],train_data['Survived'], margins=True)\n"
      ],
      "execution_count": null,
      "outputs": []
    },
    {
      "cell_type": "markdown",
      "metadata": {
        "id": "LuRNsBagLfJP",
        "colab_type": "text"
      },
      "source": [
        "여성의 생존률이 남성의 생존률보다 크다. (233/314와 109/577) 왜 그럴까?\n",
        "사회적 약자라고 인식되는 여성이 탈출에 있어 우선사항이 되었기 때문이라고 생각한다. \n",
        "\n",
        "그렇다면 나이로 구분되는 사회적 약자도 생존률이 높을까?"
      ]
    },
    {
      "cell_type": "code",
      "metadata": {
        "id": "Wln2JUheF8R7",
        "colab_type": "code",
        "colab": {}
      },
      "source": [
        "#나이 데이터는 24,27,... 너무 다양해서 표현하기 어렵다. \n",
        "#따라서 아래 그래프처럼 표현하는 게 눈에 더 잘 들어온다.\n",
        "import seaborn as sns\n",
        "\n",
        "plt.style.use('seaborn')\n",
        "sns.set(font_scale=2.5)\n",
        "\n",
        "fig, ax = plt.subplots(1, 1, figsize=(9, 5))\n",
        "sns.kdeplot(train_data[train_data['Survived'] == 1]['Age'], ax=ax)\n",
        "sns.kdeplot(train_data[train_data['Survived'] == 0]['Age'], ax=ax)\n",
        "plt.legend(['Survived', 'Dead'])\n",
        "plt.show()"
      ],
      "execution_count": null,
      "outputs": []
    },
    {
      "cell_type": "markdown",
      "metadata": {
        "id": "3D58Fb791DdL",
        "colab_type": "text"
      },
      "source": [
        "사회적 약자... 나이 파트에서 잘 이루어졌는지는 모르겠다"
      ]
    },
    {
      "cell_type": "markdown",
      "metadata": {
        "id": "GYMyIR2J1gvV",
        "colab_type": "text"
      },
      "source": [
        "앗 그런데 pandas를 확인했을 때 비어보이는 값들이 많다. missing data를 파악해보자"
      ]
    },
    {
      "cell_type": "code",
      "metadata": {
        "id": "JOth4h5y12rL",
        "colab_type": "code",
        "colab": {}
      },
      "source": [
        "test_data.info()"
      ],
      "execution_count": null,
      "outputs": []
    },
    {
      "cell_type": "markdown",
      "metadata": {
        "id": "HwLxVb8K2Ch-",
        "colab_type": "text"
      },
      "source": [
        "여기까지 확인했을 때 cabin의 값을 가지는 샘플이 많지 않다는 것을 알 수 있다. 샘플이 부족하면 언더피팅이 발생할 수 있어 샘플을 채워주거나 모델을 복잡하게 하거나 규제를 줄여 언더피팅 발생을 막아야 한다. 하지만 cabin이라는 항목이 값을 채워주기에는 너무 많은 양이 존재하지 않고, 살아남은 사람을 예상하는 것과 큰 연관이 없다고 생각해 이 데이터를 빼고 생각하려고 한다."
      ]
    },
    {
      "cell_type": "code",
      "metadata": {
        "id": "T0EbnfKG6sM3",
        "colab_type": "code",
        "colab": {}
      },
      "source": [
        "\n",
        "train_new=train_data.drop('Cabin',axis=1)\n",
        "\n",
        "train_new"
      ],
      "execution_count": null,
      "outputs": []
    },
    {
      "cell_type": "markdown",
      "metadata": {
        "id": "RK2utOo-8Vgg",
        "colab_type": "text"
      },
      "source": [
        "성별이 문자형이므로 다루기 쉽게 숫자형으로 바꾸어주자"
      ]
    },
    {
      "cell_type": "code",
      "metadata": {
        "id": "aS-znCVzeLQH",
        "colab_type": "code",
        "colab": {}
      },
      "source": [
        "\n",
        "from sklearn.preprocessing import LabelEncoder\n",
        "\n",
        "encoder = LabelEncoder()"
      ],
      "execution_count": null,
      "outputs": []
    },
    {
      "cell_type": "code",
      "metadata": {
        "id": "sS5Ebp4EhEQr",
        "colab_type": "code",
        "colab": {}
      },
      "source": [
        "train_new = encoder.fit_transform(train_new['Sex'])"
      ],
      "execution_count": null,
      "outputs": []
    },
    {
      "cell_type": "code",
      "metadata": {
        "id": "CQTPNAy9e3F_",
        "colab_type": "code",
        "colab": {}
      },
      "source": [
        "train_new['Sex']"
      ],
      "execution_count": null,
      "outputs": []
    },
    {
      "cell_type": "code",
      "metadata": {
        "id": "qk4GiWgQfky7",
        "colab_type": "code",
        "colab": {}
      },
      "source": [
        "train_new.Sex.value_counts().plot.bar()"
      ],
      "execution_count": null,
      "outputs": []
    },
    {
      "cell_type": "markdown",
      "metadata": {
        "id": "bAvlfhjSIoEX",
        "colab_type": "text"
      },
      "source": [
        "단일 특성을 가지고 생존 확률을 예측하기보단 여러가지 특성을 종합해서 예측을 하는 것이 더 좋을 것이다."
      ]
    },
    {
      "cell_type": "markdown",
      "metadata": {
        "id": "pvH_8zi11tfz",
        "colab_type": "text"
      },
      "source": [
        "# 2. 데이터 전처리를 해보자"
      ]
    },
    {
      "cell_type": "markdown",
      "metadata": {
        "id": "J6sR09jx1vjO",
        "colab_type": "text"
      },
      "source": [
        "데이터를 파악해보고 이상한 값들을 수정하고, 결측치를 채워주고, 계산을 위해 알맞은 형태로 바꾸어주자."
      ]
    },
    {
      "cell_type": "markdown",
      "metadata": {
        "id": "q6Squ_JSCZmo",
        "colab_type": "text"
      },
      "source": [
        "## Embarked 파트"
      ]
    },
    {
      "cell_type": "code",
      "metadata": {
        "id": "FfNOlsDpFCgX",
        "colab_type": "code",
        "colab": {}
      },
      "source": [
        "import numpy as np\n",
        "train_new.dropna(subset=['Embarked'],inplace=True)\n",
        "train_new.isnull().sum()"
      ],
      "execution_count": null,
      "outputs": []
    },
    {
      "cell_type": "code",
      "metadata": {
        "id": "KwH476ntQtEF",
        "colab_type": "code",
        "colab": {}
      },
      "source": [
        "import numpy as np\n",
        "test_data.dropna(subset=['Embarked'],inplace=True)\n",
        "test_data.isnull().sum()"
      ],
      "execution_count": null,
      "outputs": []
    },
    {
      "cell_type": "markdown",
      "metadata": {
        "id": "HolxX_Fe7aVX",
        "colab_type": "text"
      },
      "source": [
        "## Sex 파트"
      ]
    },
    {
      "cell_type": "markdown",
      "metadata": {
        "id": "R-XfwpWy7g5f",
        "colab_type": "text"
      },
      "source": [
        "앞에서 스트링으로 되어 있는 데이터의 형태를 숫자로 바꾸어주는 과정을 거쳤기 때문에 여기서는 test세트만 처리하자."
      ]
    },
    {
      "cell_type": "code",
      "metadata": {
        "id": "35KwOtE271U2",
        "colab_type": "code",
        "colab": {}
      },
      "source": [
        "test_data.Sex = test_data.Sex.replace('female',0)\n",
        "test_data.Sex = test_data.Sex.replace('male',1)"
      ],
      "execution_count": null,
      "outputs": []
    },
    {
      "cell_type": "markdown",
      "metadata": {
        "id": "rFEarZOFN5wS",
        "colab_type": "text"
      },
      "source": [
        "### Age 파트"
      ]
    },
    {
      "cell_type": "markdown",
      "metadata": {
        "id": "8T_5E2r5KRCm",
        "colab_type": "text"
      },
      "source": [
        "age 전처리도 해보자. age는 중간값으로 결측치를 채워주자!"
      ]
    },
    {
      "cell_type": "code",
      "metadata": {
        "id": "vXgqnLgIJn-s",
        "colab_type": "code",
        "colab": {}
      },
      "source": [
        "train_new['Age'].fillna(train_new['Age'].median(), inplace = True)\n"
      ],
      "execution_count": null,
      "outputs": []
    },
    {
      "cell_type": "markdown",
      "metadata": {
        "id": "lazRaKGa68PZ",
        "colab_type": "text"
      },
      "source": [
        "test데이터도 처리해준다."
      ]
    },
    {
      "cell_type": "code",
      "metadata": {
        "id": "4q--KiYW67Re",
        "colab_type": "code",
        "colab": {}
      },
      "source": [
        "test_data['Age'].fillna(test_data['Age'].median(), inplace = True)"
      ],
      "execution_count": null,
      "outputs": []
    },
    {
      "cell_type": "markdown",
      "metadata": {
        "id": "LKTgeLI5OATK",
        "colab_type": "text"
      },
      "source": [
        "### Fare 파트"
      ]
    },
    {
      "cell_type": "markdown",
      "metadata": {
        "id": "C2cXVTse38Zj",
        "colab_type": "text"
      },
      "source": [
        "fare 전처리도 할거다. 이 친구도 중간값을 이용해 결측치를 채워주자!"
      ]
    },
    {
      "cell_type": "code",
      "metadata": {
        "id": "cjAZw0Q73Cv9",
        "colab_type": "code",
        "colab": {}
      },
      "source": [
        "train_new['Fare'].fillna(train_new['Fare'].median(), inplace = True)\n",
        "\n"
      ],
      "execution_count": null,
      "outputs": []
    },
    {
      "cell_type": "code",
      "metadata": {
        "id": "7UH_fmow7S4y",
        "colab_type": "code",
        "colab": {}
      },
      "source": [
        "test_data['Fare'].fillna(test_data['Fare'].median(), inplace = True)"
      ],
      "execution_count": null,
      "outputs": []
    },
    {
      "cell_type": "markdown",
      "metadata": {
        "id": "6niASnjIOXBF",
        "colab_type": "text"
      },
      "source": [
        "### 나머지 파트\n"
      ]
    },
    {
      "cell_type": "markdown",
      "metadata": {
        "id": "2o9iVKWg4IZC",
        "colab_type": "text"
      },
      "source": [
        "이름, 승객번호, 캐빈, 티켓번호는 생존과 관련이 없다고 생각한다. 그러므로 앞에서 캐빈을 삭제한 거처럼 마저 삭제해버리자."
      ]
    },
    {
      "cell_type": "code",
      "metadata": {
        "id": "0JmynyYH25A6",
        "colab_type": "code",
        "colab": {}
      },
      "source": [
        "drop_column = ['PassengerId', 'Ticket',\"Name\"]\n",
        "train_new.drop(drop_column, axis=1, inplace = True)\n",
        "\n"
      ],
      "execution_count": null,
      "outputs": []
    },
    {
      "cell_type": "markdown",
      "metadata": {
        "id": "KKNG1_xv8kop",
        "colab_type": "text"
      },
      "source": [
        "test데이터에서도 똑같이 처리해주자!\n"
      ]
    },
    {
      "cell_type": "code",
      "metadata": {
        "id": "YmVnQ17D8s4m",
        "colab_type": "code",
        "colab": {}
      },
      "source": [
        "\n",
        "drop_column = ['Name','PassengerId', 'Ticket']\n",
        "test_data.drop(drop_column, axis=1, inplace = True)"
      ],
      "execution_count": null,
      "outputs": []
    },
    {
      "cell_type": "code",
      "metadata": {
        "id": "lRpUgXcCVH_3",
        "colab_type": "code",
        "colab": {}
      },
      "source": [
        "\n",
        "drop_column = ['Cabin']\n",
        "test_data.drop(drop_column, axis=1, inplace = True)"
      ],
      "execution_count": null,
      "outputs": []
    },
    {
      "cell_type": "markdown",
      "metadata": {
        "id": "BKQmxDjiHfI0",
        "colab_type": "text"
      },
      "source": [
        "## 특성 스케일링"
      ]
    },
    {
      "cell_type": "markdown",
      "metadata": {
        "id": "wDJWe924Hjwo",
        "colab_type": "text"
      },
      "source": [
        "데이터에 적용할 가장 중요한 변환 중 하나는 **특성 스케일링**이다. 모든 특성의 범위를 같게 만들어주는 것은 \n",
        "1. min-max 스케일링 (Normalization)\n",
        "2. 표준화\n",
        "이다. \n",
        "\n"
      ]
    },
    {
      "cell_type": "code",
      "metadata": {
        "id": "oEdDfRq4Ix8H",
        "colab_type": "code",
        "colab": {}
      },
      "source": [
        "np.mean(train_new['Fare']), np.std(train_new['Fare'])"
      ],
      "execution_count": null,
      "outputs": []
    },
    {
      "cell_type": "code",
      "metadata": {
        "id": "tdsY3OJOI7Kx",
        "colab_type": "code",
        "colab": {}
      },
      "source": [
        "train_new_fare = np.asanyarray(train_new['Fare'])\n",
        "X = (train_new_fare.reshape(-1, 1) )\n",
        "pd.DataFrame(X).describe()"
      ],
      "execution_count": null,
      "outputs": []
    },
    {
      "cell_type": "code",
      "metadata": {
        "id": "Zvxlgc0ZJPcL",
        "colab_type": "code",
        "colab": {}
      },
      "source": [
        "from sklearn.preprocessing import StandardScaler\n",
        "\n",
        "scaler = StandardScaler()\n",
        "scaler.fit(X)\n",
        "X_scaled = scaler.transform(X)\n",
        "np.mean(X_scaled), np.std(X_scaled)"
      ],
      "execution_count": null,
      "outputs": []
    },
    {
      "cell_type": "code",
      "metadata": {
        "id": "MGY3TFUpJVre",
        "colab_type": "code",
        "colab": {}
      },
      "source": [
        "train_new['Fare']=X_scaled\n",
        "np.mean(train_new['Fare']), np.std(train_new['Fare'])"
      ],
      "execution_count": null,
      "outputs": []
    },
    {
      "cell_type": "markdown",
      "metadata": {
        "id": "ylTDOyVRRCwx",
        "colab_type": "text"
      },
      "source": [
        "test데이터에도 적용"
      ]
    },
    {
      "cell_type": "code",
      "metadata": {
        "id": "hWd9ZsjuQ_qS",
        "colab_type": "code",
        "colab": {}
      },
      "source": [
        "np.mean(test_data['Fare']), np.std(test_data['Fare'])"
      ],
      "execution_count": null,
      "outputs": []
    },
    {
      "cell_type": "code",
      "metadata": {
        "id": "Ux07LkHURaWj",
        "colab_type": "code",
        "colab": {}
      },
      "source": [
        "test_data_fare = np.asanyarray(test_data['Fare'])\n",
        "Y = (test_data_fare.reshape(-1, 1) )\n",
        "pd.DataFrame(Y).describe()"
      ],
      "execution_count": null,
      "outputs": []
    },
    {
      "cell_type": "code",
      "metadata": {
        "id": "chQVXgb4RgDT",
        "colab_type": "code",
        "colab": {}
      },
      "source": [
        "from sklearn.preprocessing import StandardScaler\n",
        "\n",
        "scaler = StandardScaler()\n",
        "scaler.fit(Y)\n",
        "Y_scaled = scaler.transform(Y)\n",
        "np.mean(Y_scaled), np.std(Y_scaled)"
      ],
      "execution_count": null,
      "outputs": []
    },
    {
      "cell_type": "code",
      "metadata": {
        "id": "sabS1LH9Rnj-",
        "colab_type": "code",
        "colab": {}
      },
      "source": [
        "test_data['Fare']=Y_scaled\n",
        "np.mean(test_data['Fare']), np.std(test_data['Fare'])"
      ],
      "execution_count": null,
      "outputs": []
    },
    {
      "cell_type": "code",
      "metadata": {
        "id": "kxIccBc2VmFz",
        "colab_type": "code",
        "colab": {}
      },
      "source": [
        "test_data['Fare']"
      ],
      "execution_count": null,
      "outputs": []
    },
    {
      "cell_type": "markdown",
      "metadata": {
        "id": "8Hs8XTsaVduX",
        "colab_type": "text"
      },
      "source": [
        "엥 조금 이상하지만 진행해보자"
      ]
    },
    {
      "cell_type": "markdown",
      "metadata": {
        "id": "rIwQfTlp2eZ4",
        "colab_type": "text"
      },
      "source": [
        "## 정제된 데이터 확인"
      ]
    },
    {
      "cell_type": "code",
      "metadata": {
        "id": "WBtM3U-V2hS5",
        "colab_type": "code",
        "colab": {}
      },
      "source": [
        "print('Train columns with null values: \\n', train_new.isnull().sum())\n",
        "print(\"=\"*10)\n",
        "print (train_new.info())\n",
        "print(\"=\"*10)\n",
        "\n",
        "train_new\n",
        "\n",
        "\n"
      ],
      "execution_count": null,
      "outputs": []
    },
    {
      "cell_type": "markdown",
      "metadata": {
        "id": "HMKKxhUQ8PoA",
        "colab_type": "text"
      },
      "source": [
        "test 세트에서의 정제를 확인해보자"
      ]
    },
    {
      "cell_type": "code",
      "metadata": {
        "id": "y5m7cRY18Ola",
        "colab_type": "code",
        "colab": {}
      },
      "source": [
        "print('Train columns with null values: \\n', test_data.isnull().sum())\n",
        "print(\"=\"*10)\n",
        "print (test_data.info())\n",
        "print(\"=\"*10)\n",
        "\n",
        "test_data\n",
        "\n"
      ],
      "execution_count": null,
      "outputs": []
    },
    {
      "cell_type": "markdown",
      "metadata": {
        "id": "UyMQvVr39wBm",
        "colab_type": "text"
      },
      "source": [
        "아주 좋다. 모델링을 하기 위한 준비 운동이 끝났다. 여기까지 했다면 거의 다 한 것이나 다름없다. 이제 모델링을 시작해보자!"
      ]
    },
    {
      "cell_type": "markdown",
      "metadata": {
        "id": "bUcCiAOkOeUz",
        "colab_type": "text"
      },
      "source": [
        "# 모델링 및 학습"
      ]
    },
    {
      "cell_type": "markdown",
      "metadata": {
        "id": "S7B3KnoO_lIm",
        "colab_type": "text"
      },
      "source": [
        "어떤 알고리즘을 선택해야 할까?\n",
        "\n",
        "decision tree, 랜덤포레스트, 배깅, 부스팅을해보겠다. 내가 적용할 수 있는 알고리즘 중 가장 최선의 방법이다.\n",
        "\n",
        "\n"
      ]
    },
    {
      "cell_type": "markdown",
      "metadata": {
        "id": "rhKmOSTTAH-5",
        "colab_type": "text"
      },
      "source": [
        "## Decision Tree"
      ]
    },
    {
      "cell_type": "code",
      "metadata": {
        "id": "tMN7Bg-ZNWeM",
        "colab_type": "code",
        "colab": {}
      },
      "source": [
        "from sklearn.metrics import classification_report, confusion_matrix\n",
        "from sklearn.model_selection import train_test_split\n",
        "from sklearn.tree import DecisionTreeClassifier\n",
        "from sklearn import tree\n",
        "from IPython.display import Image\n",
        "import pandas as pd\n",
        "import numpy as np\n",
        "import pydotplus\n",
        "import os"
      ],
      "execution_count": null,
      "outputs": []
    },
    {
      "cell_type": "code",
      "metadata": {
        "id": "ZVrKEnd-ZEsv",
        "colab_type": "code",
        "colab": {}
      },
      "source": [
        "A = np.array(pd.DataFrame(train_new, columns=['Sex','Name', 'Embarked', 'Fare']))\n",
        "B = np.array(pd.DataFrame(train_new, columns=['Survived']))"
      ],
      "execution_count": null,
      "outputs": []
    },
    {
      "cell_type": "code",
      "metadata": {
        "id": "wUnqg-N6Y_eg",
        "colab_type": "code",
        "colab": {}
      },
      "source": [
        "A_train_new, A_test_new, B_train_new, B_test_new = train_test_split(A,B,test_size=0.1)"
      ],
      "execution_count": null,
      "outputs": []
    },
    {
      "cell_type": "code",
      "metadata": {
        "id": "wvTSHM8wARTY",
        "colab_type": "code",
        "colab": {}
      },
      "source": [
        "my_clf=DecisionTreeClassifier()"
      ],
      "execution_count": null,
      "outputs": []
    },
    {
      "cell_type": "code",
      "metadata": {
        "id": "5f0OIAwIBr4v",
        "colab_type": "code",
        "colab": {}
      },
      "source": [
        "my_clf=my_clf.fit(A_train_new,B_train_new)"
      ],
      "execution_count": null,
      "outputs": []
    },
    {
      "cell_type": "markdown",
      "metadata": {
        "id": "dn4_e4fKadFP",
        "colab_type": "text"
      },
      "source": [
        "앗 전처리가 완벽하지 않았다. Embarked 수정해줘야한다."
      ]
    },
    {
      "cell_type": "code",
      "metadata": {
        "id": "aIVZMziKasLd",
        "colab_type": "code",
        "colab": {}
      },
      "source": [
        "train_new.Embarked = train_new.Embarked.replace('S',3)\n",
        "train_new.Embarked = train_new.Embarked.replace('Q',4)\n",
        "train_new.Embarked = train_new.Embarked.replace('C',5)"
      ],
      "execution_count": null,
      "outputs": []
    },
    {
      "cell_type": "code",
      "metadata": {
        "id": "zTdDw5o1bS3d",
        "colab_type": "code",
        "colab": {}
      },
      "source": [
        "A = np.array(pd.DataFrame(train_new, columns=['Sex','Name', 'Embarked', 'Fare']))\n",
        "B = np.array(pd.DataFrame(train_new, columns=['Survived']))\n",
        "\n",
        "A_train_new, A_test_new, B_train_new, B_test_new = train_test_split(A,B,test_size=0.1)\n",
        "\n",
        "my_clf=DecisionTreeClassifier()\n",
        "\n",
        "my_clf=my_clf.fit(A_train_new,B_train_new)"
      ],
      "execution_count": null,
      "outputs": []
    },
    {
      "cell_type": "markdown",
      "metadata": {
        "id": "nnyhuPzFAEVW",
        "colab_type": "text"
      },
      "source": [
        "## RandomForest"
      ]
    },
    {
      "cell_type": "markdown",
      "metadata": {
        "id": "fgY97hxZAPja",
        "colab_type": "text"
      },
      "source": [
        "## Bagging"
      ]
    },
    {
      "cell_type": "markdown",
      "metadata": {
        "id": "TK0YoRl2AfiJ",
        "colab_type": "text"
      },
      "source": [
        "## Boosting"
      ]
    },
    {
      "cell_type": "markdown",
      "metadata": {
        "id": "V_W8bOxGUTV6",
        "colab_type": "text"
      },
      "source": [
        "## SVC"
      ]
    },
    {
      "cell_type": "code",
      "metadata": {
        "id": "ZUbfgd1RUVwg",
        "colab_type": "code",
        "colab": {}
      },
      "source": [
        ""
      ],
      "execution_count": null,
      "outputs": []
    }
  ]
}
