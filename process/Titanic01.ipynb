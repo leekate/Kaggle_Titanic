{
  "nbformat": 4,
  "nbformat_minor": 0,
  "metadata": {
    "colab": {
      "name": "Titanic01.ipynb",
      "provenance": [],
      "private_outputs": true,
      "collapsed_sections": [],
      "authorship_tag": "ABX9TyMc86BhmU9XL6ST27L1Y4eL",
      "include_colab_link": true
    },
    "kernelspec": {
      "name": "python3",
      "display_name": "Python 3"
    }
  },
  "cells": [
    {
      "cell_type": "markdown",
      "metadata": {
        "id": "view-in-github",
        "colab_type": "text"
      },
      "source": [
        "<a href=\"https://colab.research.google.com/github/leekate/titanic_pro/blob/master/Titanic01.ipynb\" target=\"_parent\"><img src=\"https://colab.research.google.com/assets/colab-badge.svg\" alt=\"Open In Colab\"/></a>"
      ]
    },
    {
      "cell_type": "markdown",
      "metadata": {
        "id": "-eHJKCTbnIf7",
        "colab_type": "text"
      },
      "source": [
        "# Kaggle: Titanic_Machine Learning from Disaster\n",
        "#### 목표:트레이닝 세트에서 패턴을 찾고 살아남은 사람을 예측하기"
      ]
    },
    {
      "cell_type": "code",
      "metadata": {
        "id": "PSIXODRUmhiL",
        "colab_type": "code",
        "colab": {}
      },
      "source": [
        "#필요한 라이브러리 불러오기\n",
        "import numpy as np \n",
        "import pandas as pd "
      ],
      "execution_count": null,
      "outputs": []
    },
    {
      "cell_type": "markdown",
      "metadata": {
        "id": "RRmJfMemm3rL",
        "colab_type": "text"
      },
      "source": [
        "# 데이터 확인부터 하자"
      ]
    },
    {
      "cell_type": "code",
      "metadata": {
        "id": "jwX46RdUlUM6",
        "colab_type": "code",
        "colab": {}
      },
      "source": [
        "train_data = pd.read_csv(\"train.csv\")\n",
        "train_data.head()"
      ],
      "execution_count": null,
      "outputs": []
    },
    {
      "cell_type": "code",
      "metadata": {
        "id": "_gz_5YDameWk",
        "colab_type": "code",
        "colab": {}
      },
      "source": [
        "test_data = pd.read_csv(\"test.csv\")\n",
        "test_data.head()"
      ],
      "execution_count": null,
      "outputs": []
    },
    {
      "cell_type": "markdown",
      "metadata": {
        "id": "SPg_jK1rogxk",
        "colab_type": "text"
      },
      "source": [
        "### 여기까지 확인했을 때 cabin의 값을 가지는 샘플이 많지 않다는 것을 알 수 있다. 샘플이 부족하면 언더피팅이 발생할 수 있어 샘플을 채워주거나 모델을 복잡하게 하거나 규제를 줄여 언더피팅 발생을 막아야 한다. 하지만 cabin이라는 항목이 값을 채워주기에는 너무 많은 양이 존재하지 않고, 살아남은 사람을 예상하는 것과 큰 연관이 없다고 생각해 이 데이터를 빼고 생각하려고 한다."
      ]
    },
    {
      "cell_type": "code",
      "metadata": {
        "id": "1EI1EqVAmtJz",
        "colab_type": "code",
        "colab": {}
      },
      "source": [
        "train_data.drop('Cabin',axis=1)"
      ],
      "execution_count": null,
      "outputs": []
    },
    {
      "cell_type": "markdown",
      "metadata": {
        "id": "vNW5dOEuq84N",
        "colab_type": "text"
      },
      "source": [
        "### cabin 열이 성공적으로 사라졌다.\n"
      ]
    },
    {
      "cell_type": "markdown",
      "metadata": {
        "id": "BqgDNDMyrOmm",
        "colab_type": "text"
      },
      "source": [
        "## 몇등석에 있었는지에 따라 살아남은 정도가 궁금해졌다. 좋은 1등석에 있을수록 많은 사람이 살아남았을까?"
      ]
    },
    {
      "cell_type": "code",
      "metadata": {
        "id": "dP_d_9XJqZL0",
        "colab_type": "code",
        "colab": {}
      },
      "source": [
        "import matplotlib.pyplot as plt\n",
        "\n",
        "train_data_class = train_data.groupby(['Pclass'])['Survived']\n",
        "train_data_class.plot.bar()"
      ],
      "execution_count": null,
      "outputs": []
    },
    {
      "cell_type": "markdown",
      "metadata": {
        "id": "PRHOjGefsOkP",
        "colab_type": "text"
      },
      "source": [
        "## 그래프를 알아보기 힘들정도로 복잡하다. 따라서 다른 방법으로 보기 쉽게 조절해주어야 한다. mean() 메소드를 사용해보자."
      ]
    },
    {
      "cell_type": "code",
      "metadata": {
        "id": "5IaKd3u0qHYt",
        "colab_type": "code",
        "colab": {}
      },
      "source": [
        "import matplotlib.pyplot as plt\n",
        "\n",
        "train_data_class = train_data.groupby(['Pclass'])['Survived'].mean()\n",
        "train_data_class.plot.bar()"
      ],
      "execution_count": null,
      "outputs": []
    },
    {
      "cell_type": "markdown",
      "metadata": {
        "id": "MSi_fFHrtOku",
        "colab_type": "text"
      },
      "source": [
        "### 알고싶었던 정보를 쉽게 알 수 있다. 성별과도 비교해보자."
      ]
    },
    {
      "cell_type": "code",
      "metadata": {
        "id": "M2D62QD1sa_S",
        "colab_type": "code",
        "colab": {}
      },
      "source": [
        "import matplotlib.pyplot as plt\n",
        "\n",
        "train_data_sex = train_data.groupby(['Sex'])['Survived'].mean()\n",
        "train_data_sex.plot.bar()\n"
      ],
      "execution_count": null,
      "outputs": []
    },
    {
      "cell_type": "markdown",
      "metadata": {
        "id": "33DCpfxjyaoB",
        "colab_type": "text"
      },
      "source": [
        "# corr()메소드를 이용해 모든 **특성 간의 표준 상관계수**를 계산해보자. 문자형인 샘플은 숫자형으로 변경해주어야 한다."
      ]
    },
    {
      "cell_type": "code",
      "metadata": {
        "id": "rN-rY8jDt5yu",
        "colab_type": "code",
        "colab": {}
      },
      "source": [
        "train_data.Sex = train_data.Sex.replace('female',0)\n",
        "train_data.Sex = train_data.Sex.replace('male',1)\n",
        "\n",
        "train_data.drop('Name',axis=1)\n",
        "train_data.drop('Ticket',axis=1)\n",
        "train_data.drop('Embarked',axis=1)\n",
        "train_data.drop('Cabin',axis=1)\n",
        "\n",
        "train_data"
      ],
      "execution_count": null,
      "outputs": []
    },
    {
      "cell_type": "markdown",
      "metadata": {
        "id": "Q_AdgBBm0NRv",
        "colab_type": "text"
      },
      "source": [
        "# 왜 drop이 실행되지 않을까"
      ]
    },
    {
      "cell_type": "code",
      "metadata": {
        "id": "jFBO-otVz4cy",
        "colab_type": "code",
        "colab": {}
      },
      "source": [
        ""
      ],
      "execution_count": null,
      "outputs": []
    },
    {
      "cell_type": "code",
      "metadata": {
        "id": "8Lt-iX-Gz4GQ",
        "colab_type": "code",
        "colab": {}
      },
      "source": [
        ""
      ],
      "execution_count": null,
      "outputs": []
    },
    {
      "cell_type": "markdown",
      "metadata": {
        "id": "fj6kPBjbuBnT",
        "colab_type": "text"
      },
      "source": [
        "# 데이터로 결정트리 decision tree를 만들 수 있지 않을까"
      ]
    },
    {
      "cell_type": "code",
      "metadata": {
        "id": "0KWOB8ZPuMY-",
        "colab_type": "code",
        "colab": {}
      },
      "source": [
        "from sklearn.metrics import classification_report, confusion_matrix\n",
        "from sklearn.model_selection import train_test_split\n",
        "from sklearn.tree import DecisionTreeClassifier\n",
        "from sklearn import tree\n",
        "from IPython.display import Image\n",
        "import pandas as pd\n",
        "import numpy as np\n",
        "import pydotplus\n",
        "import os"
      ],
      "execution_count": null,
      "outputs": []
    },
    {
      "cell_type": "code",
      "metadata": {
        "id": "LY_LqrJLuP7F",
        "colab_type": "code",
        "colab": {}
      },
      "source": [
        "train_data = pd.read_csv('train.csv')\n",
        "train_data"
      ],
      "execution_count": null,
      "outputs": []
    },
    {
      "cell_type": "code",
      "metadata": {
        "id": "EHEzbm8du_72",
        "colab_type": "code",
        "colab": {}
      },
      "source": [
        "X = np.array(pd.DataFrame(train_data, columns=['Sex','Age', 'Pclass']))\n",
        "y = np.array(pd.DataFrame(train_data, columns=['Survived']))"
      ],
      "execution_count": null,
      "outputs": []
    },
    {
      "cell_type": "code",
      "metadata": {
        "id": "0pqSib79wTX1",
        "colab_type": "code",
        "colab": {}
      },
      "source": [
        "X_train, X_test, y_train, y_test = train_test_split(X,y,test_size=0.1)"
      ],
      "execution_count": null,
      "outputs": []
    },
    {
      "cell_type": "code",
      "metadata": {
        "id": "FEkIqCcOwaPI",
        "colab_type": "code",
        "colab": {}
      },
      "source": [
        "X_train"
      ],
      "execution_count": null,
      "outputs": []
    },
    {
      "cell_type": "markdown",
      "metadata": {
        "id": "86rv16oowlSm",
        "colab_type": "text"
      },
      "source": [
        "# 앗 성별이 문자형이다. 결정트리에서 다루기 쉽게 숫자형식으로 바꾸어주자"
      ]
    },
    {
      "cell_type": "code",
      "metadata": {
        "id": "BQNL3QbSwb3c",
        "colab_type": "code",
        "colab": {}
      },
      "source": [
        "train_data.Sex = train_data.Sex.replace('female',0)\n",
        "train_data.Sex = train_data.Sex.replace('male',1)"
      ],
      "execution_count": null,
      "outputs": []
    },
    {
      "cell_type": "code",
      "metadata": {
        "id": "q3k3AQs2xmeq",
        "colab_type": "code",
        "colab": {}
      },
      "source": [
        "train_data['Sex'].fillna(0,inplace=True)\n",
        "train_data['Pclass'].fillna(0,inplace=True)\n",
        "train_data['Age'].fillna(0,inplace=True)"
      ],
      "execution_count": null,
      "outputs": []
    },
    {
      "cell_type": "code",
      "metadata": {
        "id": "BzCPJtdezlG8",
        "colab_type": "code",
        "colab": {}
      },
      "source": [
        "X_train"
      ],
      "execution_count": null,
      "outputs": []
    },
    {
      "cell_type": "markdown",
      "metadata": {
        "id": "1HO027w4zU9a",
        "colab_type": "text"
      },
      "source": [
        "### 결과가 성별이 텍스트에서 숫자형으로 바뀌지도 않았고, 아직 non값이 존재한다. 어느 부분이 잘못된 걸까"
      ]
    },
    {
      "cell_type": "code",
      "metadata": {
        "id": "bkWRdBn8xDo8",
        "colab_type": "code",
        "colab": {}
      },
      "source": [
        ""
      ],
      "execution_count": null,
      "outputs": []
    }
  ]
}
